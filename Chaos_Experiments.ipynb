{
  "cells": [
    {
      "cell_type": "markdown",
      "source": [
        "### The following sets up the fixed-point arithmetic functions and chaotic maps:"
      ],
      "metadata": {
        "id": "uIal8p77-anG"
      }
    },
    {
      "cell_type": "code",
      "execution_count": null,
      "metadata": {
        "colab": {
          "base_uri": "https://localhost:8080/"
        },
        "id": "kUYv1iT1tSKS",
        "outputId": "c93eab99-977c-4b5a-a566-e3118af752ea"
      },
      "outputs": [
        {
          "output_type": "stream",
          "name": "stdout",
          "text": [
            "Fixed point representation of control parameter: 3.9999999990686774\n",
            "Fixed point representation of 123456789: 0.11497809458523989\n",
            "Logistic map of 123456789: 437047849\n",
            "Tent map of 123456789: 246912636\n",
            "Number of set bits in 123456789: 16\n"
          ]
        }
      ],
      "source": [
        "import math\n",
        "\n",
        "# Define constants (assuming these are defined somewhere in the C++ code)\n",
        "FRAC = 30  # 30 bits to represent fraction\n",
        "INT = 2   # 2 bits to represent integers\n",
        "# M = 0xFFFFE000    # 3.99999 for logistic map control parameter\n",
        "M = 0xFFFFFFFF    # 3.99999 for logistic map control parameter\n",
        "R = 0x7FFFE000      # 1.99999 for tent map control parameter\n",
        "ONE = 0x40000000  # 1.00 representation\n",
        "HALF = 0x20000000 # 0.5 representation\n",
        "\n",
        "# Helper function to mimic MUL macro in C++\n",
        "def MUL(a, b):\n",
        "    return (a * b) >> FRAC\n",
        "\n",
        "# Print floating point representation of 32-bit fixed point\n",
        "def getFixedPoint(x):\n",
        "    mask = 0x1\n",
        "    total = 0\n",
        "    for i in range(FRAC, 0, -1):\n",
        "        temp = 1 if (x & mask) != 0 else 0\n",
        "        total += temp * math.pow(2, -i)\n",
        "        x = x >> 1\n",
        "    for i in range(INT):\n",
        "        temp = 1 if (x & mask) != 0 else 0\n",
        "        total += temp * math.pow(2, i)\n",
        "        x = x >> 1\n",
        "    return total\n",
        "\n",
        "# Logistic map\n",
        "def logistic(x):\n",
        "    # x = rx(1-x) = rx-x^2\n",
        "    return MUL(MUL(M, x), ONE - x)\n",
        "\n",
        "# Logistic tent\n",
        "def tent(x):\n",
        "    if x < HALF:\n",
        "        return MUL(R, x)\n",
        "    return MUL(R, ONE - x)\n",
        "\n",
        "# Count 1s in a 32-bit integer\n",
        "def countSetBits(n):\n",
        "    count = 0\n",
        "    while n:\n",
        "        count += n & 1\n",
        "        n >>= 1\n",
        "    return count\n",
        "\n",
        "# Example usage\n",
        "if __name__ == \"__main__\":\n",
        "    print(f\"Fixed point representation of control parameter: {getFixedPoint(M)}\")\n",
        "    x = 123456789\n",
        "    print(f\"Fixed point representation of {x}: {getFixedPoint(x)}\")\n",
        "    print(f\"Logistic map of {x}: {logistic(x)}\")\n",
        "    print(f\"Tent map of {x}: {tent(x)}\")\n",
        "    print(f\"Number of set bits in {x}: {countSetBits(x)}\")\n"
      ]
    },
    {
      "cell_type": "markdown",
      "metadata": {
        "id": "Zn7Zdue0ybxC"
      },
      "source": [
        "---\n",
        "### S-box DDT Code for reference:"
      ]
    },
    {
      "cell_type": "code",
      "execution_count": null,
      "metadata": {
        "colab": {
          "base_uri": "https://localhost:8080/"
        },
        "id": "pe60T_mgyPWJ",
        "outputId": "a8b607a4-753e-4c0a-d199-40d0747c27be"
      },
      "outputs": [
        {
          "output_type": "stream",
          "name": "stdout",
          "text": [
            "16, 0, 0, 0, 0, 0, 0, 0, 0, 0, 0, 0, 0, 0, 0, 0, \n",
            "0, 0, 0, 4, 0, 0, 0, 4, 0, 4, 0, 0, 0, 4, 0, 0, \n",
            "0, 0, 0, 2, 0, 4, 2, 0, 0, 0, 2, 0, 2, 2, 2, 0, \n",
            "0, 2, 0, 2, 2, 0, 4, 2, 0, 0, 2, 2, 0, 0, 0, 0, \n",
            "0, 0, 0, 0, 0, 4, 2, 2, 0, 2, 2, 0, 2, 0, 2, 0, \n",
            "0, 2, 0, 0, 2, 0, 0, 0, 0, 2, 2, 2, 4, 2, 0, 0, \n",
            "0, 0, 2, 0, 0, 0, 2, 0, 2, 0, 0, 4, 2, 0, 0, 4, \n",
            "0, 4, 2, 0, 0, 0, 2, 0, 2, 0, 0, 0, 2, 0, 0, 4, \n",
            "0, 0, 0, 2, 0, 0, 0, 2, 0, 2, 0, 4, 0, 2, 0, 4, \n",
            "0, 0, 2, 0, 4, 0, 2, 0, 2, 0, 0, 0, 2, 0, 4, 0, \n",
            "0, 0, 2, 2, 0, 4, 0, 0, 2, 0, 2, 0, 0, 2, 2, 0, \n",
            "0, 2, 0, 0, 2, 0, 0, 0, 4, 2, 2, 2, 0, 2, 0, 0, \n",
            "0, 0, 2, 0, 0, 4, 0, 2, 2, 2, 2, 0, 0, 0, 2, 0, \n",
            "0, 2, 4, 2, 2, 0, 0, 2, 0, 0, 2, 2, 0, 0, 0, 0, \n",
            "0, 0, 2, 2, 0, 0, 2, 2, 2, 2, 0, 0, 2, 2, 0, 0, \n",
            "0, 4, 0, 0, 4, 0, 0, 0, 0, 0, 0, 0, 0, 0, 4, 4, \n"
          ]
        }
      ],
      "source": [
        "# Define the S-box\n",
        "sBox = [0xC, 5, 6, 0xB, 9, 0, 0xA, 0xD, 3, 0xE, 0xF, 8, 4, 7, 1, 2]\n",
        "\n",
        "# Initialize the difference table\n",
        "diffTabOriginal = [[0 for _ in range(16)] for _ in range(16)]\n",
        "\n",
        "# Compute the difference table\n",
        "for dx in range(16):\n",
        "    for i in range(16):\n",
        "        j = dx ^ i\n",
        "        dy = sBox[i] ^ sBox[j]\n",
        "        diffTabOriginal[dx][dy] += 1\n",
        "\n",
        "# Print the difference table and count zeroes and non-zeroes\n",
        "zeroes = 0\n",
        "nonzero = 0\n",
        "\n",
        "for i in range(16):\n",
        "    for j in range(16):\n",
        "        print(f\"{diffTabOriginal[i][j]}, \", end=\"\")\n",
        "    print()\n",
        "\n"
      ]
    },
    {
      "cell_type": "markdown",
      "metadata": {
        "id": "OwRJR2e70uDl"
      },
      "source": [
        "---\n",
        "# Experiment 1\n",
        "Compute full 4-bit DDT for the chaos-based substitution function."
      ]
    },
    {
      "cell_type": "code",
      "execution_count": null,
      "metadata": {
        "colab": {
          "base_uri": "https://localhost:8080/"
        },
        "id": "Ozdc1wU90wyc",
        "outputId": "a5df6fbe-db30-4412-a1b1-81074f0b5387"
      },
      "outputs": [
        {
          "name": "stdout",
          "output_type": "stream",
          "text": [
            "0.05129266157746315\n",
            "0& 16 & 0 & 0 & 0 & 0 & 0 & 0 & 0 & 0 & 0 & 0 & 0 & 0 & 0 & 0 & 0 \\\\\n",
            "1& 0 & 0 & 2 & 0 & 0 & 0 & 2 & 0 & 2 & 0 & 6 & 2 & 2 & 0 & 0 & 0 \\\\\n",
            "2& 0 & 4 & 0 & 0 & 4 & 4 & 0 & 0 & 0 & 0 & 0 & 0 & 0 & 0 & 2 & 2 \\\\\n",
            "3& 0 & 0 & 2 & 0 & 0 & 0 & 0 & 2 & 2 & 0 & 0 & 4 & 0 & 2 & 2 & 2 \\\\\n",
            "4& 0 & 0 & 2 & 0 & 0 & 0 & 0 & 2 & 4 & 2 & 0 & 0 & 4 & 2 & 0 & 0 \\\\\n",
            "5& 0 & 0 & 4 & 0 & 2 & 2 & 2 & 2 & 0 & 0 & 2 & 2 & 0 & 0 & 0 & 0 \\\\\n",
            "6& 0 & 0 & 0 & 2 & 0 & 0 & 0 & 2 & 2 & 4 & 0 & 0 & 4 & 2 & 0 & 0 \\\\\n",
            "7& 2 & 2 & 0 & 4 & 2 & 2 & 2 & 2 & 0 & 0 & 0 & 0 & 0 & 0 & 0 & 0 \\\\\n",
            "8& 0 & 0 & 0 & 0 & 2 & 0 & 0 & 2 & 2 & 4 & 0 & 2 & 0 & 0 & 2 & 2 \\\\\n",
            "9& 0 & 2 & 4 & 2 & 2 & 2 & 0 & 0 & 0 & 0 & 0 & 0 & 0 & 2 & 0 & 2 \\\\\n",
            "A& 2 & 0 & 0 & 0 & 0 & 0 & 2 & 0 & 2 & 0 & 4 & 0 & 2 & 2 & 2 & 0 \\\\\n",
            "B& 2 & 2 & 2 & 0 & 2 & 0 & 4 & 0 & 0 & 0 & 2 & 0 & 2 & 0 & 0 & 0 \\\\\n",
            "C& 2 & 0 & 0 & 0 & 0 & 4 & 4 & 2 & 0 & 2 & 0 & 0 & 0 & 0 & 0 & 2 \\\\\n",
            "D& 0 & 0 & 0 & 2 & 0 & 2 & 0 & 0 & 0 & 0 & 2 & 0 & 2 & 4 & 2 & 2 \\\\\n",
            "E& 2 & 2 & 2 & 2 & 2 & 0 & 0 & 2 & 2 & 0 & 2 & 0 & 0 & 0 & 0 & 0 \\\\\n",
            "F& 0 & 2 & 2 & 0 & 0 & 0 & 0 & 0 & 4 & 0 & 2 & 2 & 0 & 2 & 2 & 0 \\\\\n",
            "-1.415037499278844\n",
            "6\n",
            "1\n"
          ]
        }
      ],
      "source": [
        "# Initialize the difference table\n",
        "diffTabOriginal = [[0 for _ in range(16)] for _ in range(16)]\n",
        "counter = [0]*16\n",
        "\n",
        "# Initial value of the chaotic map (taken from numbers of pi)\n",
        "x = 0x03486104\n",
        "# print(getFixedPoint(x))\n",
        "\n",
        "#Iterate r times\n",
        "def logi(x,r):\n",
        "    # x = rx(1-x) = rx-x^2\n",
        "    for i in range(r):\n",
        "      x = MUL(MUL(M, x), ONE - x)\n",
        "    return x\n",
        "\n",
        "for dx in range(16):\n",
        "    for i in range(16):\n",
        "      j = dx ^ i\n",
        "      dy = (logi(x ^ i,100) & 0xF) ^ (logi(x ^ j,100) & 0xF)\n",
        "      diffTabOriginal[dx][dy] += 1\n",
        "\n",
        "# for i in range(16):\n",
        "#     for j in range(16):\n",
        "#         print(f\"{diffTabOriginal[i][j]}, \", end=\"\")\n",
        "#     print()\n",
        "\n",
        "highest = 0\n",
        "for i in range(16):\n",
        "    row_label = format(i, 'X')  # Convert the row index to hexadecimal\n",
        "    print(f\"{row_label}\", end=\"& \")\n",
        "    for j in range(16):\n",
        "        separator = \" \\\\\\\\\" if j == 15 else \" & \"\n",
        "        print(f\"{diffTabOriginal[i][j]}{separator}\", end=\"\")\n",
        "        if ((diffTabOriginal[i][j] >= highest) and (diffTabOriginal[i][j] !=16)):\n",
        "          highest = diffTabOriginal[i][j]\n",
        "          counter[highest] = counter[highest]+1\n",
        "    print()\n",
        "\n",
        "print(math.log2(highest/16))\n",
        "print(highest)\n",
        "print(counter[highest])"
      ]
    },
    {
      "cell_type": "markdown",
      "metadata": {
        "id": "sYZY98LbHo9N"
      },
      "source": [
        "---\n",
        "Experiment across different number of iterations, i:"
      ]
    },
    {
      "cell_type": "code",
      "execution_count": null,
      "metadata": {
        "colab": {
          "base_uri": "https://localhost:8080/"
        },
        "id": "a3XlUl6lHopD",
        "outputId": "5d919ba7-0498-4d9e-fd7b-2538c609a107"
      },
      "outputs": [
        {
          "output_type": "stream",
          "name": "stdout",
          "text": [
            "0.05129266157746315\n",
            "[0, 0, 0, 0, 8, 0, 74, 0, 16, 0, 1, 0, 1, 0, 0, 0]\n"
          ]
        }
      ],
      "source": [
        "# Initialize the difference table\n",
        "size = 16 # Log2(size) = input size in bits. 16 for 4-bit, 256 for 8-bit\n",
        "mask = 0xF #Input mask, set to 0xF for 4-bit, 0xFF for 8-bit\n",
        "diffTabOriginal = [[0 for _ in range(size)] for _ in range(size)]\n",
        "counter = [0]*size\n",
        "maxIterations = 100\n",
        "\n",
        "# Initial value of the chaotic map (taken from numbers of pi)\n",
        "x = 0x03486104\n",
        "\n",
        "print(getFixedPoint(x))\n",
        "\n",
        "#Iterate r times\n",
        "def logi(x,r):\n",
        "    # x = rx(1-x) = rx-x^2\n",
        "    for i in range(r):\n",
        "      x = MUL(MUL(M, x), ONE - x)\n",
        "    return x\n",
        "\n",
        "\n",
        "for iterations in range(1,maxIterations+1):\n",
        "  highest = 0 #Variable to store the highest count in a DDT\n",
        "  diffTabOriginal = [[0 for _ in range(size)] for _ in range(size)]\n",
        "  for dx in range(size):\n",
        "      for i in range(size):\n",
        "        j = dx ^ i\n",
        "        dy = (logi(x ^ i,iterations) & mask) ^ (logi(x ^ j,iterations) & mask)\n",
        "        diffTabOriginal[dx][dy] += 1\n",
        "\n",
        "  for i in range(size):\n",
        "      for j in range(size):\n",
        "          if ((diffTabOriginal[i][j] >= highest) and (diffTabOriginal[i][j] !=size) and (diffTabOriginal[i][j]!=0)):\n",
        "            highest = diffTabOriginal[i][j]\n",
        "\n",
        "  counter[highest] = counter[highest]+1\n",
        "  # if (highest <= 12):\n",
        "  #   print(\"lower than 10 at\", iterations, \"with highest = \", highest)\n",
        "\n",
        "print(counter) #Count distribution"
      ]
    },
    {
      "cell_type": "markdown",
      "source": [
        "---\n",
        "\n",
        "Codes to generate graphs and results"
      ],
      "metadata": {
        "id": "ll-pCkfT_dT0"
      }
    },
    {
      "cell_type": "code",
      "execution_count": null,
      "metadata": {
        "colab": {
          "base_uri": "https://localhost:8080/",
          "height": 528
        },
        "id": "xQYxfDrmOHO0",
        "outputId": "21e5d153-b8d9-496d-db76-569390daf342"
      },
      "outputs": [
        {
          "data": {
            "image/png": "[encoded data removed]",
            "text/plain": [
              "<Figure size 1000x600 with 1 Axes>"
            ]
          },
          "metadata": {},
          "output_type": "display_data"
        }
      ],
      "source": [
        "import matplotlib.pyplot as plt\n",
        "\n",
        "# Given counter array\n",
        "counter = [0, 0, 0, 0, 49, 0, 366, 0, 81, 0, 3, 0, 1, 0, 0, 0]\n",
        "\n",
        "# X-axis values (number of hits)\n",
        "x_values = list(range(len(counter)))\n",
        "\n",
        "# Y-axis values (counts)\n",
        "y_values = counter\n",
        "\n",
        "# Create the plot\n",
        "plt.figure(figsize=(10, 6))\n",
        "plt.bar(x_values, y_values, color='blue', edgecolor='black')\n",
        "\n",
        "# Set the title and labels\n",
        "plt.title('Count vs Instances')\n",
        "plt.xlabel('Count')\n",
        "plt.ylabel('Instances')\n",
        "\n",
        "# Show the plot\n",
        "plt.xticks(x_values)  # Ensure all x-ticks are shown\n",
        "plt.grid(axis='y')    # Add grid lines for better readability\n",
        "plt.show()\n"
      ]
    },
    {
      "cell_type": "code",
      "execution_count": null,
      "metadata": {
        "colab": {
          "base_uri": "https://localhost:8080/",
          "height": 763
        },
        "id": "pU-jD8JxPfpM",
        "outputId": "8e796d92-e2b2-4134-f8d2-d8cd7ca1f1f0"
      },
      "outputs": [
        {
          "name": "stdout",
          "output_type": "stream",
          "text": [
            "Index 10  value:  37\n",
            "Index 12  value:  50\n",
            "Index 14  value:  4\n",
            "Index 20  value:  2\n",
            "Index 38  value:  1\n",
            "Index 42  value:  2\n",
            "Index 50  value:  1\n",
            "Index 68  value:  1\n",
            "Index 78  value:  1\n",
            "Index 80  value:  1\n"
          ]
        },
        {
          "data": {
            "image/png": "[encoded data removed]",
            "text/plain": [
              "<Figure size 1000x600 with 1 Axes>"
            ]
          },
          "metadata": {},
          "output_type": "display_data"
        }
      ],
      "source": [
        "import matplotlib.pyplot as plt\n",
        "\n",
        "# Given counter array\n",
        "# counter = [0, 0, 0, 0, 49, 0, 366, 0, 81, 0, 3, 0, 1, 0, 0, 0]\n",
        "\n",
        "counter = [0, 0, 0, 0, 0, 0, 0, 0, 0, 0, 37, 0, 50, 0, 4, 0, 0, 0, 0, 0, 2, 0, 0, 0, 0, 0, 0, 0, 0, 0, 0, 0, 0, 0, 0, 0, 0, 0, 1, 0, 0, 0, 2, 0, 0, 0, 0, 0, 0, 0, 1, 0, 0, 0, 0, 0, 0, 0, 0, 0, 0, 0, 0, 0, 0, 0, 0, 0, 1, 0, 0, 0, 0, 0, 0, 0, 0, 0, 1, 0, 1, 0, 0, 0, 0, 0, 0, 0, 0, 0, 0, 0, 0, 0, 0, 0, 0, 0, 0, 0, 0, 0, 0, 0, 0, 0, 0, 0, 0, 0, 0, 0, 0, 0, 0, 0, 0, 0, 0, 0, 0, 0, 0, 0, 0, 0, 0, 0, 0, 0, 0, 0, 0, 0, 0, 0, 0, 0, 0, 0, 0, 0, 0, 0, 0, 0, 0, 0, 0, 0, 0, 0, 0, 0, 0, 0, 0, 0, 0, 0, 0, 0, 0, 0, 0, 0, 0, 0, 0, 0, 0, 0, 0, 0, 0, 0, 0, 0, 0, 0, 0, 0, 0, 0, 0, 0, 0, 0, 0, 0, 0, 0, 0, 0, 0, 0, 0, 0, 0, 0, 0, 0, 0, 0, 0, 0, 0, 0, 0, 0, 0, 0, 0, 0, 0, 0, 0, 0, 0, 0, 0, 0, 0, 0, 0, 0, 0, 0, 0, 0, 0, 0, 0, 0, 0, 0, 0, 0, 0, 0, 0, 0, 0, 0, 0, 0, 0, 0, 0, 0, 0, 0, 0, 0, 0, 0]\n",
        "\n",
        "# Loop through the array and print the indexes of nonzero elements\n",
        "for index, value in enumerate(counter):\n",
        "    if value != 0:\n",
        "        print(\"Index\", index, \" value: \", value)\n",
        "\n",
        "# X-axis values (number of hits)\n",
        "x_values = list(range(len(counter)))\n",
        "\n",
        "# Y-axis values (counts)\n",
        "y_values = counter\n",
        "\n",
        "# Create the plot\n",
        "plt.figure(figsize=(10, 6))\n",
        "plt.bar(x_values, y_values, color='blue', edgecolor='black')\n",
        "\n",
        "# Set the title and labels\n",
        "plt.title('Count vs Instances')\n",
        "plt.xlabel('Count')\n",
        "plt.ylabel('Instances')\n",
        "\n",
        "# Set the x-axis limit\n",
        "plt.xlim(0, 80)\n",
        "\n",
        "# Show the plot\n",
        "plt.xticks(range(0,84,2))  # Ensure all x-ticks are shown\n",
        "plt.grid(axis='y')    # Add grid lines for better readability\n",
        "plt.show()\n"
      ]
    },
    {
      "cell_type": "code",
      "execution_count": null,
      "metadata": {
        "colab": {
          "background_save": true,
          "base_uri": "https://localhost:8080/"
        },
        "id": "u1mLBoDnTDsv",
        "outputId": "460f0cf7-72d5-468f-d7b9-73b79e25d474"
      },
      "outputs": [
        {
          "name": "stdout",
          "output_type": "stream",
          "text": [
            "0.05129266157746315\n",
            "[0, 0, 0, 0, 0, 0, 0, 0, 0, 0, 0, 0, 0, 0, 0, 1, 0, 0, 0, 0, 1, 0, 0, 0, 1, 0, 0, 1, 0, 0, 0, 0, 1, 1, 1, 1, 1, 1, 1, 0, 1, 1, 0, 0, 0, 0, 0, 0, 1, 0, 0, 1, 0, 0, 1, 0, 0, 1, 1, 0, 1, 1, 0, 0, 0, 0, 0, 0, 1, 0, 1, 0, 1, 1, 0, 0, 0, 1, 1, 0, 1, 0, 1, 0, 0, 1, 1, 0, 1, 1, 0, 0, 1, 0, 1, 0, 1, 1, 0, 1, 0]\n",
            "[0, 0, 0, 0, 0, 0, 0, 0, 0, 0, 0, 1, 1, 1, 1, 0, 1, 1, 1, 1, 0, 1, 1, 1, 0, 0, 1, 0, 1, 0, 1, 1, 0, 0, 0, 0, 0, 0, 0, 1, 0, 0, 1, 1, 1, 1, 1, 1, 0, 1, 1, 0, 1, 1, 0, 1, 1, 0, 0, 1, 0, 0, 1, 1, 1, 1, 1, 1, 0, 1, 0, 1, 0, 0, 1, 1, 1, 0, 0, 1, 0, 1, 0, 1, 1, 0, 0, 1, 0, 0, 1, 1, 0, 1, 0, 1, 0, 0, 1, 0, 0]\n"
          ]
        }
      ],
      "source": [
        "# Initialize the difference table\n",
        "size = 256 # Log2(size) = input size in bits\n",
        "mask = 0xFF #Input mask\n",
        "diffTabOriginal = [[0 for _ in range(size)] for _ in range(size)]\n",
        "counter = [0]*size\n",
        "maxIterations = 100\n",
        "tens = [0]*(maxIterations+1)\n",
        "twe = [0]*(maxIterations+1)\n",
        "\n",
        "# Initial value of the chaotic map (taken from numbers of pi)\n",
        "x = 0x03486104\n",
        "# x = 0x0123124A\n",
        "highest = 0\n",
        "\n",
        "print(getFixedPoint(x))\n",
        "\n",
        "#Iterate r times\n",
        "def logi(x,r):\n",
        "    # x = rx(1-x) = rx-x^2\n",
        "    for i in range(r):\n",
        "      x = MUL(MUL(M, x), ONE - x)\n",
        "    return x\n",
        "\n",
        "\n",
        "for iterations in range(1,maxIterations+1):\n",
        "  highest = 0\n",
        "  diffTabOriginal = [[0 for _ in range(size)] for _ in range(size)]\n",
        "  for dx in range(size):\n",
        "      for i in range(size):\n",
        "        j = dx ^ i\n",
        "        dy = (logi(x ^ i,iterations) & mask) ^ (logi(x ^ j,iterations) & mask)\n",
        "        diffTabOriginal[dx][dy] += 1\n",
        "\n",
        "  for i in range(size):\n",
        "      for j in range(size):\n",
        "          if ((diffTabOriginal[i][j] >= highest) and (diffTabOriginal[i][j] !=size) and (diffTabOriginal[i][j]!=0)):\n",
        "            highest = diffTabOriginal[i][j]\n",
        "\n",
        "  counter[highest] = counter[highest]+1\n",
        "  if (highest == 10):\n",
        "    tens[iterations-1] = tens[iterations-1]+1\n",
        "  if (highest == 12):\n",
        "    twe[iterations-1] = twe[iterations-1]+1\n",
        "\n",
        "\n",
        "print(tens)\n",
        "print(twe)"
      ]
    },
    {
      "cell_type": "markdown",
      "source": [
        "Plot graph for distribution"
      ],
      "metadata": {
        "id": "XTOMr-Xdx56G"
      }
    },
    {
      "cell_type": "code",
      "source": [
        "import matplotlib.pyplot as plt\n",
        "\n",
        "# Given arrays\n",
        "tens = [0, 0, 0, 0, 0, 0, 0, 0, 0, 0, 0, 0, 0, 0, 0, 1, 0, 0, 0, 0, 1, 0, 0, 0, 1, 0, 0, 1, 0, 0, 0, 0, 1, 1, 1, 1, 1, 1, 1, 0, 1, 1, 0, 0, 0, 0, 0, 0, 1, 0, 0, 1, 0, 0, 1, 0, 0, 1, 1, 0, 1, 1, 0, 0, 0, 0, 0, 0, 1, 0, 1, 0, 1, 1, 0, 0, 0, 1, 1, 0, 1, 0, 1, 0, 0, 1, 1, 0, 1, 1, 0, 0, 1, 0, 1, 0, 1, 1, 0, 1, 0]\n",
        "twe = [0, 0, 0, 0, 0, 0, 0, 0, 0, 0, 0, 1, 1, 1, 1, 0, 1, 1, 1, 1, 0, 1, 1, 1, 0, 0, 1, 0, 1, 0, 1, 1, 0, 0, 0, 0, 0, 0, 0, 1, 0, 0, 1, 1, 1, 1, 1, 1, 0, 1, 1, 0, 1, 1, 0, 1, 1, 0, 0, 1, 0, 0, 1, 1, 1, 1, 1, 1, 0, 1, 0, 1, 0, 0, 1, 1, 1, 0, 0, 1, 0, 1, 0, 1, 1, 0, 0, 1, 0, 0, 1, 1, 0, 1, 0, 1, 0, 0, 1, 0, 0]\n",
        "\n",
        "# X-axis values (number of iterations)\n",
        "iterations = list(range(len(tens)))\n",
        "# Create a figure with a specific size (width, height)\n",
        "plt.figure(figsize=(8, 1))  # Width: 8 inches, Height: 4 inches\n",
        "# Plot tens array as scatter plot\n",
        "plt.scatter(iterations, tens, color='blue', label='10', marker='o')\n",
        "\n",
        "# Plot twe array as scatter plot\n",
        "plt.scatter(iterations, twe, color='red', label='12', marker='x')\n",
        "\n",
        "# Set the title and labels\n",
        "plt.title('Iterations vs Instances')\n",
        "plt.xlabel('Iterations')\n",
        "plt.ylabel('Instances')\n",
        "\n",
        "# Set y-axis ticks to \"yes\" and \"no\"\n",
        "plt.yticks([0, 1], ['0', '1'])\n",
        "\n",
        "# Add legend\n",
        "plt.legend()\n",
        "# Show the plot\n",
        "plt.grid(True)\n",
        "plt.show()\n"
      ],
      "metadata": {
        "colab": {
          "base_uri": "https://localhost:8080/",
          "height": 179
        },
        "id": "VpJxJARCx7eI",
        "outputId": "e2bbc20d-ac17-42c1-f987-84315994abdc"
      },
      "execution_count": null,
      "outputs": [
        {
          "output_type": "display_data",
          "data": {
            "text/plain": [
              "<Figure size 800x100 with 1 Axes>"
            ],
            "image/png": "[encoded data removed]"
          },
          "metadata": {}
        }
      ]
    },
    {
      "cell_type": "markdown",
      "source": [
        "---\n",
        "# Experiment 2\n",
        "\n"
      ],
      "metadata": {
        "id": "1IbnUCVoDLPc"
      }
    },
    {
      "cell_type": "markdown",
      "source": [
        "---\n",
        "### 4-bit DDT experiments\n",
        "x_0∈{0x00000001,0x00000002,0x00000004,…,0x4000000}."
      ],
      "metadata": {
        "id": "oStVwnJSLhIC"
      }
    },
    {
      "cell_type": "code",
      "source": [
        "# Initialize the difference table\n",
        "size = 16 # Log2(size) = input size in bits\n",
        "mask = 0xF #Input mask\n",
        "diffTabOriginal = [[0 for _ in range(size)] for _ in range(size)]\n",
        "counter = [0]*27 #There are 27 x0s\n",
        "iterations = 500\n",
        "\n",
        "# Initial value of the chaotic map (taken from numbers of pi)\n",
        "x = 0x00000001\n",
        "\n",
        "x_list = [x]\n",
        "\n",
        "print(getFixedPoint(x))\n",
        "\n",
        "#Iterate r times\n",
        "def logi(xx,r):\n",
        "    # x = rx(1-x) = rx-x^2\n",
        "    for i in range(r):\n",
        "      xx = MUL(MUL(M, xx), ONE - xx)\n",
        "    return xx\n",
        "\n",
        "z = 0\n",
        "while(x<=0x4000000):\n",
        "  highest = 0\n",
        "  diffTabOriginal = [[0 for _ in range(size)] for _ in range(size)]\n",
        "  for dx in range(size):\n",
        "      for i in range(size):\n",
        "        j = dx ^ i\n",
        "        dy = (logi(x ^ i,iterations) & mask) ^ (logi(x ^ j,iterations) & mask)\n",
        "        diffTabOriginal[dx][dy] += 1\n",
        "\n",
        "  for i in range(size):\n",
        "    for j in range(size):\n",
        "      # print(f\"{diffTabOriginal[i][j]}, \", end=\"\")\n",
        "      if ((diffTabOriginal[i][j] >= highest) and (diffTabOriginal[i][j] !=size) and (diffTabOriginal[i][j]!=0)):\n",
        "        highest = diffTabOriginal[i][j]\n",
        "  #   print()\n",
        "  # print(\"---\")\n",
        "\n",
        "  counter[z] = highest\n",
        "  z = z + 1\n",
        "\n",
        "  x = x*2\n",
        "  if (x<0x8000000):\n",
        "    x_list.append(x)\n",
        "\n",
        "print(counter)\n",
        "print(x_list)\n",
        "\n",
        "# Convert x_list to hexadecimal strings\n",
        "x_labels_hex = [hex(x) for x in x_list]\n",
        "\n",
        "# Plotting the line plot\n",
        "plt.plot(x_labels_hex, counter, marker='o', linestyle='-', color='b', label='Counter Values')\n",
        "\n",
        "# Adding labels and title\n",
        "plt.xlabel('x0')\n",
        "plt.ylabel('Count')\n",
        "plt.title('x0 vs Count')\n",
        "\n",
        "# Adding grid\n",
        "plt.grid(True)\n",
        "\n",
        "# Showing legend\n",
        "plt.legend()\n",
        "\n",
        "# Displaying the plot\n",
        "plt.xticks(rotation=90)  # Rotate x-axis labels for better readability\n",
        "plt.show()"
      ],
      "metadata": {
        "colab": {
          "base_uri": "https://localhost:8080/",
          "height": 608
        },
        "id": "e_v_HmpxDQxD",
        "outputId": "c5f6f3ce-e5a2-468a-dfec-1271c74bb378"
      },
      "execution_count": null,
      "outputs": [
        {
          "output_type": "stream",
          "name": "stdout",
          "text": [
            "9.313225746154785e-10\n",
            "[4, 4, 4, 4, 6, 6, 6, 6, 6, 6, 6, 6, 6, 6, 8, 6, 8, 8, 4, 6, 4, 6, 6, 6, 6, 6, 8]\n",
            "[1, 2, 4, 8, 16, 32, 64, 128, 256, 512, 1024, 2048, 4096, 8192, 16384, 32768, 65536, 131072, 262144, 524288, 1048576, 2097152, 4194304, 8388608, 16777216, 33554432, 67108864]\n"
          ]
        },
        {
          "output_type": "display_data",
          "data": {
            "text/plain": [
              "<Figure size 640x480 with 1 Axes>"
            ],
            "image/png": "[encoded data removed]"
          },
          "metadata": {}
        }
      ]
    },
    {
      "cell_type": "markdown",
      "source": [
        "Increase x_0 incrementally"
      ],
      "metadata": {
        "id": "e4PIfwDKHi37"
      }
    },
    {
      "cell_type": "code",
      "source": [
        "import matplotlib.pyplot as plt\n",
        "\n",
        "# Initialize the difference table\n",
        "size = 16 # Log2(size) = input size in bits\n",
        "mask = 0xF #Input mask\n",
        "diffTabOriginal = [[0 for _ in range(size)] for _ in range(size)]\n",
        "max = 0xF\n",
        "counter = [0]*max\n",
        "iterations = 500\n",
        "\n",
        "# Initial value of the chaotic map (taken from numbers of pi)\n",
        "x = 0x00000001\n",
        "\n",
        "#Iterate r times\n",
        "def logi(xx,r):\n",
        "    # x = rx(1-x) = rx-x^2\n",
        "    for i in range(r):\n",
        "      xx = MUL(MUL(M, xx), ONE - xx)\n",
        "    return xx\n",
        "\n",
        "z = 0\n",
        "while(x<=max):\n",
        "  highest = 0\n",
        "  diffTabOriginal = [[0 for _ in range(size)] for _ in range(size)]\n",
        "  for dx in range(size):\n",
        "      for i in range(size):\n",
        "        j = dx ^ i\n",
        "        dy = (logi(x ^ i,iterations) & mask) ^ (logi(x ^ j,iterations) & mask)\n",
        "        diffTabOriginal[dx][dy] += 1\n",
        "\n",
        "  for i in range(size):\n",
        "    for j in range(size):\n",
        "      # print(f\"{diffTabOriginal[i][j]}, \", end=\"\")\n",
        "      if ((diffTabOriginal[i][j] >= highest) and (diffTabOriginal[i][j] !=size) and (diffTabOriginal[i][j]!=0)):\n",
        "        highest = diffTabOriginal[i][j]\n",
        "  #   print()\n",
        "  # print(\"---\")\n",
        "\n",
        "  counter[z] = highest\n",
        "  z = z + 1\n",
        "\n",
        "  x = x+1\n",
        "\n",
        "print(counter)\n",
        "\n",
        "# X-axis values (range from 1 to 10)\n",
        "x_values = list(range(1, max+1))\n",
        "\n",
        "# Plotting the line plot\n",
        "plt.plot(x_values, counter, linestyle='-', color='b', label='Counter Values')\n",
        "\n",
        "# Adding labels and title\n",
        "plt.xlabel('x0 in decimal')\n",
        "plt.ylabel('Max Count')"
      ],
      "metadata": {
        "colab": {
          "base_uri": "https://localhost:8080/",
          "height": 484
        },
        "id": "xCccKjgsLlQB",
        "outputId": "365ecd48-3189-4960-a676-f8dd78b5e41a"
      },
      "execution_count": null,
      "outputs": [
        {
          "output_type": "stream",
          "name": "stdout",
          "text": [
            "[4, 4, 4, 4, 4, 4, 4, 4, 4, 4, 4, 4, 4, 4, 4]\n"
          ]
        },
        {
          "output_type": "execute_result",
          "data": {
            "text/plain": [
              "Text(0, 0.5, 'Max Count')"
            ]
          },
          "metadata": {},
          "execution_count": 73
        },
        {
          "output_type": "display_data",
          "data": {
            "text/plain": [
              "<Figure size 640x480 with 1 Axes>"
            ],
            "image/png": "[encoded data removed]"
          },
          "metadata": {}
        }
      ]
    },
    {
      "cell_type": "markdown",
      "source": [
        "---\n",
        "### 8-bit DDT experiments"
      ],
      "metadata": {
        "id": "t2YW30K1XZto"
      }
    },
    {
      "cell_type": "code",
      "source": [
        "# Initialize the difference table\n",
        "size = 256 # Log2(size) = input size in bits\n",
        "mask = 0xFF #Input mask\n",
        "diffTabOriginal = [[0 for _ in range(size)] for _ in range(size)]\n",
        "counter = [0]*27 #There are 27 x0s\n",
        "iterations = 50\n",
        "\n",
        "# Initial value of the chaotic map (taken from numbers of pi)\n",
        "x = 0x00000001\n",
        "\n",
        "x_list = [x]\n",
        "\n",
        "print(getFixedPoint(x))\n",
        "\n",
        "#Iterate r times\n",
        "def logi(xx,r):\n",
        "    # x = rx(1-x) = rx-x^2\n",
        "    for i in range(r):\n",
        "      xx = MUL(MUL(M, xx), ONE - xx)\n",
        "    return xx\n",
        "\n",
        "z = 0\n",
        "while(x<=0x4000000):\n",
        "  highest = 0\n",
        "  diffTabOriginal = [[0 for _ in range(size)] for _ in range(size)]\n",
        "  for dx in range(size):\n",
        "      for i in range(size):\n",
        "        j = dx ^ i\n",
        "        dy = (logi(x ^ i,iterations) & mask) ^ (logi(x ^ j,iterations) & mask)\n",
        "        diffTabOriginal[dx][dy] += 1\n",
        "\n",
        "  for i in range(size):\n",
        "    for j in range(size):\n",
        "      # print(f\"{diffTabOriginal[i][j]}, \", end=\"\")\n",
        "      if ((diffTabOriginal[i][j] >= highest) and (diffTabOriginal[i][j] !=size) and (diffTabOriginal[i][j]!=0)):\n",
        "        highest = diffTabOriginal[i][j]\n",
        "  #   print()\n",
        "  # print(\"---\")\n",
        "\n",
        "  counter[z] = highest\n",
        "  z = z + 1\n",
        "\n",
        "  x = x*2\n",
        "  if (x<0x8000000):\n",
        "    x_list.append(x)\n",
        "\n",
        "print(counter)\n",
        "print(x_list)\n",
        "\n",
        "# Convert x_list to hexadecimal strings\n",
        "x_labels_hex = [hex(x) for x in x_list]\n",
        "\n",
        "# Plotting the line plot\n",
        "plt.plot(x_labels_hex, counter, marker='o', linestyle='-', color='b', label='Counter Values')\n",
        "\n",
        "# Adding labels and title\n",
        "plt.xlabel('x0')\n",
        "plt.ylabel('Count')\n",
        "plt.title('x0 vs Count')\n",
        "\n",
        "# Adding grid\n",
        "plt.grid(True)\n",
        "\n",
        "# Showing legend\n",
        "plt.legend()\n",
        "\n",
        "# Displaying the plot\n",
        "plt.xticks(rotation=90)  # Rotate x-axis labels for better readability\n",
        "plt.show()"
      ],
      "metadata": {
        "colab": {
          "base_uri": "https://localhost:8080/",
          "height": 590
        },
        "id": "Wgx7vJibXaqe",
        "outputId": "356c7d3a-c4ea-4d87-e60e-bd4a0dd73e84"
      },
      "execution_count": null,
      "outputs": [
        {
          "output_type": "stream",
          "name": "stdout",
          "text": [
            "9.313225746154785e-10\n",
            "[10, 10, 10, 10, 10, 10, 10, 10, 12, 10, 12, 12, 10, 12, 12, 12, 10, 16, 10, 12, 12, 12, 10, 14, 12, 12, 12]\n",
            "[1, 2, 4, 8, 16, 32, 64, 128, 256, 512, 1024, 2048, 4096, 8192, 16384, 32768, 65536, 131072, 262144, 524288, 1048576, 2097152, 4194304, 8388608, 16777216, 33554432, 67108864]\n"
          ]
        },
        {
          "output_type": "display_data",
          "data": {
            "text/plain": [
              "<Figure size 640x480 with 1 Axes>"
            ],
            "image/png": "[encoded data removed]"
          },
          "metadata": {}
        }
      ]
    },
    {
      "cell_type": "code",
      "source": [
        "import matplotlib.pyplot as plt\n",
        "\n",
        "# Initialize the difference table\n",
        "size = 256 # Log2(size) = input size in bits\n",
        "mask = 0xFF #Input mask\n",
        "diffTabOriginal = [[0 for _ in range(size)] for _ in range(size)]\n",
        "max = 0xFF\n",
        "counter = [0]*max\n",
        "iterations = 50\n",
        "\n",
        "# Initial value of the chaotic map (taken from numbers of pi)\n",
        "x = 0x00000001\n",
        "\n",
        "#Iterate r times\n",
        "def logi(xx,r):\n",
        "    # x = rx(1-x) = rx-x^2\n",
        "    for i in range(r):\n",
        "      xx = MUL(MUL(M, xx), ONE - xx)\n",
        "    return xx\n",
        "\n",
        "z = 0\n",
        "while(x<=max):\n",
        "  highest = 0\n",
        "  diffTabOriginal = [[0 for _ in range(size)] for _ in range(size)]\n",
        "  for dx in range(size):\n",
        "      for i in range(size):\n",
        "        j = dx ^ i\n",
        "        dy = (logi(x ^ i,iterations) & mask) ^ (logi(x ^ j,iterations) & mask)\n",
        "        diffTabOriginal[dx][dy] += 1\n",
        "\n",
        "  for i in range(size):\n",
        "    for j in range(size):\n",
        "      # print(f\"{diffTabOriginal[i][j]}, \", end=\"\")\n",
        "      if ((diffTabOriginal[i][j] >= highest) and (diffTabOriginal[i][j] !=size) and (diffTabOriginal[i][j]!=0)):\n",
        "        highest = diffTabOriginal[i][j]\n",
        "  #   print()\n",
        "  # print(\"---\")\n",
        "\n",
        "  counter[z] = highest\n",
        "  z = z + 1\n",
        "\n",
        "  x = x+1\n",
        "\n",
        "print(counter)\n",
        "\n",
        "# X-axis values (range from 1 to 10)\n",
        "x_values = list(range(1, max+1))\n",
        "\n",
        "# Plotting the line plot\n",
        "plt.plot(x_values, counter, linestyle='-', color='b', label='Counter Values')\n",
        "\n",
        "# Adding labels and title\n",
        "plt.xlabel('x0 in decimal')\n",
        "plt.ylabel('Max Count')"
      ],
      "metadata": {
        "id": "zmtOQW-XbNGN",
        "colab": {
          "base_uri": "https://localhost:8080/",
          "height": 505
        },
        "outputId": "189eedc2-5d3f-4bd6-8811-7aa67b0fdf6d"
      },
      "execution_count": null,
      "outputs": [
        {
          "output_type": "stream",
          "name": "stdout",
          "text": [
            "[10, 10, 10, 10, 10, 10, 10, 10, 10, 10, 10, 10, 10, 10, 10, 10, 10, 10, 10, 10, 10, 10, 10, 10, 10, 10, 10, 10, 10, 10, 10, 10, 10, 10, 10, 10, 10, 10, 10, 10, 10, 10, 10, 10, 10, 10, 10, 10, 10, 10, 10, 10, 10, 10, 10, 10, 10, 10, 10, 10, 10, 10, 10, 10, 10, 10, 10, 10, 10, 10, 10, 10, 10, 10, 10, 10, 10, 10, 10, 10, 10, 10, 10, 10, 10, 10, 10, 10, 10, 10, 10, 10, 10, 10, 10, 10, 10, 10, 10, 10, 10, 10, 10, 10, 10, 10, 10, 10, 10, 10, 10, 10, 10, 10, 10, 10, 10, 10, 10, 10, 10, 10, 10, 10, 10, 10, 10, 10, 10, 10, 10, 10, 10, 10, 10, 10, 10, 10, 10, 10, 10, 10, 10, 10, 10, 10, 10, 10, 10, 10, 10, 10, 10, 10, 10, 10, 10, 10, 10, 10, 10, 10, 10, 10, 10, 10, 10, 10, 10, 10, 10, 10, 10, 10, 10, 10, 10, 10, 10, 10, 10, 10, 10, 10, 10, 10, 10, 10, 10, 10, 10, 10, 10, 10, 10, 10, 10, 10, 10, 10, 10, 10, 10, 10, 10, 10, 10, 10, 10, 10, 10, 10, 10, 10, 10, 10, 10, 10, 10, 10, 10, 10, 10, 10, 10, 10, 10, 10, 10, 10, 10, 10, 10, 10, 10, 10, 10, 10, 10, 10, 10, 10, 10, 10, 10, 10, 10, 10, 10, 10, 10, 10, 10, 10, 10]\n"
          ]
        },
        {
          "output_type": "execute_result",
          "data": {
            "text/plain": [
              "Text(0, 0.5, 'Max Count')"
            ]
          },
          "metadata": {},
          "execution_count": 3
        },
        {
          "output_type": "display_data",
          "data": {
            "text/plain": [
              "<Figure size 640x480 with 1 Axes>"
            ],
            "image/png": "[encoded data removed]"
          },
          "metadata": {}
        }
      ]
    },
    {
      "cell_type": "markdown",
      "source": [
        "---\n",
        "# FBCT"
      ],
      "metadata": {
        "id": "uvMXl-APIOGY"
      }
    },
    {
      "cell_type": "code",
      "source": [
        "# Initialize the difference table\n",
        "size = 16 # Log2(size) = input size in bits\n",
        "mask = 0xF #Input mask\n",
        "diffTabOriginal = [[0 for _ in range(size)] for _ in range(size)]\n",
        "max = 0xF\n",
        "counter = [0]*max\n",
        "iterations = 100\n",
        "\n",
        "# Initial value of the chaotic map (taken from numbers of pi)\n",
        "x0 = 0x03486104\n",
        "\n",
        "#Iterate r times\n",
        "def logi(xx,r):\n",
        "    # x = rx(1-x) = rx-x^2\n",
        "    for i in range(r):\n",
        "      xx = MUL(MUL(M, xx), ONE - xx)\n",
        "    return xx\n",
        "\n",
        "# Initialize FBCT array with zeros\n",
        "FBCT = [[0 for _ in range(16)] for _ in range(16)]\n",
        "\n",
        "# Compute the FBCT values\n",
        "for Di in range(16):\n",
        "    for Do in range(16):\n",
        "        for x in range(16):\n",
        "            diff = (logi(x0^x,iterations)&mask) ^ (logi(x0^x^Di,iterations)&mask) ^ (logi(x0 ^ x ^ Do, iterations)&mask) ^ (logi(x0^ x ^ Di ^ Do, iterations)&mask)\n",
        "            if diff == 0:\n",
        "                FBCT[Di][Do] += 1\n",
        "\n",
        "\n",
        "for i in range(16):\n",
        "    row_label = format(i, 'X')  # Convert the row index to hexadecimal\n",
        "    print(f\"{row_label}\", end=\"& \")\n",
        "    for j in range(16):\n",
        "        separator = \" \\\\\\\\\" if j == 15 else \" & \"\n",
        "        print(f\"{FBCT[i][j]}{separator}\", end=\"\")\n",
        "    print()\n"
      ],
      "metadata": {
        "colab": {
          "base_uri": "https://localhost:8080/"
        },
        "id": "AQH-67sUIQQd",
        "outputId": "b88922ba-1c8e-4af1-f80b-f1f3108fdd98"
      },
      "execution_count": null,
      "outputs": [
        {
          "output_type": "stream",
          "name": "stdout",
          "text": [
            "0& 16 & 16 & 16 & 16 & 16 & 16 & 16 & 16 & 16 & 16 & 16 & 16 & 16 & 16 & 16 & 16 \\\\\n",
            "1& 16 & 16 & 4 & 4 & 4 & 4 & 4 & 4 & 0 & 0 & 0 & 0 & 0 & 0 & 0 & 0 \\\\\n",
            "2& 16 & 4 & 16 & 4 & 0 & 0 & 0 & 0 & 0 & 4 & 0 & 4 & 0 & 4 & 0 & 4 \\\\\n",
            "3& 16 & 4 & 4 & 16 & 0 & 0 & 0 & 0 & 0 & 0 & 0 & 0 & 0 & 0 & 0 & 0 \\\\\n",
            "4& 16 & 4 & 0 & 0 & 16 & 4 & 0 & 0 & 4 & 0 & 0 & 0 & 4 & 0 & 0 & 0 \\\\\n",
            "5& 16 & 4 & 0 & 0 & 4 & 16 & 0 & 0 & 0 & 0 & 0 & 0 & 0 & 0 & 0 & 0 \\\\\n",
            "6& 16 & 4 & 0 & 0 & 0 & 0 & 16 & 4 & 0 & 0 & 4 & 0 & 4 & 0 & 0 & 0 \\\\\n",
            "7& 16 & 4 & 0 & 0 & 0 & 0 & 4 & 16 & 0 & 0 & 0 & 0 & 0 & 0 & 0 & 0 \\\\\n",
            "8& 16 & 0 & 0 & 0 & 4 & 0 & 0 & 0 & 16 & 0 & 0 & 0 & 4 & 0 & 0 & 0 \\\\\n",
            "9& 16 & 0 & 4 & 0 & 0 & 0 & 0 & 0 & 0 & 16 & 0 & 4 & 0 & 0 & 0 & 0 \\\\\n",
            "A& 16 & 0 & 0 & 0 & 0 & 0 & 4 & 0 & 0 & 0 & 16 & 0 & 4 & 0 & 0 & 0 \\\\\n",
            "B& 16 & 0 & 4 & 0 & 0 & 0 & 0 & 0 & 0 & 4 & 0 & 16 & 0 & 0 & 0 & 0 \\\\\n",
            "C& 16 & 0 & 0 & 0 & 4 & 0 & 4 & 0 & 4 & 0 & 4 & 0 & 16 & 0 & 0 & 0 \\\\\n",
            "D& 16 & 0 & 4 & 0 & 0 & 0 & 0 & 0 & 0 & 0 & 0 & 0 & 0 & 16 & 0 & 4 \\\\\n",
            "E& 16 & 0 & 0 & 0 & 0 & 0 & 0 & 0 & 0 & 0 & 0 & 0 & 0 & 0 & 16 & 0 \\\\\n",
            "F& 16 & 0 & 4 & 0 & 0 & 0 & 0 & 0 & 0 & 0 & 0 & 0 & 0 & 4 & 0 & 16 \\\\\n"
          ]
        }
      ]
    },
    {
      "cell_type": "code",
      "source": [
        "# WARP S-box\n",
        "s = [0xc, 0xa, 0xd, 0x3, 0xe, 0xb, 0xf, 0x7, 0x8, 0x9, 0x1, 0x5, 0x0, 0x2, 0x4, 0x6]\n",
        "\n",
        "# Initialize FBCT array with zeros\n",
        "FBCT = [[0 for _ in range(16)] for _ in range(16)]\n",
        "\n",
        "# Compute the FBCT values\n",
        "for Di in range(16):\n",
        "    for Do in range(16):\n",
        "        for x in range(16):\n",
        "            diff = s[x] ^ s[x ^ Di] ^ s[x ^ Do] ^ s[x ^ Di ^ Do]\n",
        "            if diff == 0:\n",
        "                FBCT[Di][Do] += 1\n",
        "\n",
        "# Print FBCT array\n",
        "print(\"FBCT:\")\n",
        "for i in range(16):\n",
        "    for j in range(16):\n",
        "        print(f\"{FBCT[i][j]},\\t\", end=\"\")\n",
        "    print()\n"
      ],
      "metadata": {
        "colab": {
          "base_uri": "https://localhost:8080/"
        },
        "id": "odw2DUdJM_-f",
        "outputId": "5a356e68-5166-49f6-d0c1-76f8b0105233"
      },
      "execution_count": null,
      "outputs": [
        {
          "output_type": "stream",
          "name": "stdout",
          "text": [
            "FBCT:\n",
            "16,\t16,\t16,\t16,\t16,\t16,\t16,\t16,\t16,\t16,\t16,\t16,\t16,\t16,\t16,\t16,\t\n",
            "16,\t16,\t4,\t4,\t0,\t0,\t0,\t0,\t0,\t0,\t0,\t0,\t0,\t0,\t0,\t0,\t\n",
            "16,\t4,\t16,\t4,\t4,\t0,\t4,\t0,\t0,\t4,\t0,\t4,\t4,\t0,\t4,\t0,\t\n",
            "16,\t4,\t4,\t16,\t0,\t0,\t0,\t0,\t0,\t0,\t0,\t0,\t0,\t0,\t0,\t0,\t\n",
            "16,\t0,\t4,\t0,\t16,\t0,\t4,\t0,\t0,\t0,\t0,\t0,\t0,\t0,\t0,\t0,\t\n",
            "16,\t0,\t0,\t0,\t0,\t16,\t0,\t0,\t0,\t0,\t8,\t0,\t0,\t0,\t0,\t8,\t\n",
            "16,\t0,\t4,\t0,\t4,\t0,\t16,\t0,\t0,\t0,\t0,\t0,\t0,\t0,\t0,\t0,\t\n",
            "16,\t0,\t0,\t0,\t0,\t0,\t0,\t16,\t0,\t0,\t8,\t0,\t0,\t8,\t0,\t0,\t\n",
            "16,\t0,\t0,\t0,\t0,\t0,\t0,\t0,\t16,\t0,\t0,\t0,\t0,\t0,\t0,\t0,\t\n",
            "16,\t0,\t4,\t0,\t0,\t0,\t0,\t0,\t0,\t16,\t0,\t4,\t0,\t0,\t0,\t0,\t\n",
            "16,\t0,\t0,\t0,\t0,\t8,\t0,\t8,\t0,\t0,\t16,\t0,\t0,\t8,\t0,\t8,\t\n",
            "16,\t0,\t4,\t0,\t0,\t0,\t0,\t0,\t0,\t4,\t0,\t16,\t0,\t0,\t0,\t0,\t\n",
            "16,\t0,\t4,\t0,\t0,\t0,\t0,\t0,\t0,\t0,\t0,\t0,\t16,\t0,\t4,\t0,\t\n",
            "16,\t0,\t0,\t0,\t0,\t0,\t0,\t8,\t0,\t0,\t8,\t0,\t0,\t16,\t0,\t0,\t\n",
            "16,\t0,\t4,\t0,\t0,\t0,\t0,\t0,\t0,\t0,\t0,\t0,\t4,\t0,\t16,\t0,\t\n",
            "16,\t0,\t0,\t0,\t0,\t8,\t0,\t0,\t0,\t0,\t8,\t0,\t0,\t0,\t0,\t16,\t\n"
          ]
        }
      ]
    }
  ],
  "metadata": {
    "colab": {
      "provenance": []
    },
    "kernelspec": {
      "display_name": "Python 3",
      "name": "python3"
    },
    "language_info": {
      "name": "python"
    }
  },
  "nbformat": 4,
  "nbformat_minor": 0
}